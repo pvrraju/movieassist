{
 "cells": [
  {
   "cell_type": "code",
   "execution_count": 1,
   "metadata": {},
   "outputs": [],
   "source": [
    "from pyspark.sql import SparkSession"
   ]
  },
  {
   "cell_type": "code",
   "execution_count": 2,
   "metadata": {},
   "outputs": [
    {
     "name": "stderr",
     "output_type": "stream",
     "text": [
      "25/06/15 16:14:50 WARN Utils: Your hostname, Vijays-MacBook-Pro.local resolves to a loopback address: 127.0.0.1; using 10.0.0.71 instead (on interface en0)\n",
      "25/06/15 16:14:50 WARN Utils: Set SPARK_LOCAL_IP if you need to bind to another address\n",
      "Setting default log level to \"WARN\".\n",
      "To adjust logging level use sc.setLogLevel(newLevel). For SparkR, use setLogLevel(newLevel).\n",
      "25/06/15 16:14:50 WARN NativeCodeLoader: Unable to load native-hadoop library for your platform... using builtin-java classes where applicable\n"
     ]
    }
   ],
   "source": [
    "spark = SparkSession.builder.appName(\"CSVImport\").getOrCreate()"
   ]
  },
  {
   "cell_type": "code",
   "execution_count": 3,
   "metadata": {},
   "outputs": [
    {
     "name": "stderr",
     "output_type": "stream",
     "text": [
      "                                                                                \r"
     ]
    }
   ],
   "source": [
    "df = spark.read.csv(\"/Users/vijayramaraju/Developer/Data Engineering/movieassist/data/raw/TMDB_movie_dataset_v11.csv\", header=True, inferSchema=True)"
   ]
  },
  {
   "cell_type": "code",
   "execution_count": 4,
   "metadata": {},
   "outputs": [
    {
     "name": "stdout",
     "output_type": "stream",
     "text": [
      "+------+--------------------+------------+----------+--------+------------+----------+-------+-----+--------------------+---------+--------------------+---------+-----------------+--------------------+--------------------+--------------------+--------------------+--------------------+--------------------+--------------------+--------------------+--------------------+--------------------+\n",
      "|    id|               title|vote_average|vote_count|  status|release_date|   revenue|runtime|adult|       backdrop_path|   budget|            homepage|  imdb_id|original_language|      original_title|            overview|          popularity|         poster_path|             tagline|              genres|production_companies|production_countries|    spoken_languages|            keywords|\n",
      "+------+--------------------+------------+----------+--------+------------+----------+-------+-----+--------------------+---------+--------------------+---------+-----------------+--------------------+--------------------+--------------------+--------------------+--------------------+--------------------+--------------------+--------------------+--------------------+--------------------+\n",
      "| 27205|           Inception|       8.364|     34495|Released|  2010-07-15| 825532764|    148|False|/8ZTVqvKDQ8emSGUE...|160000000|https://www.warne...|tt1375666|               en|           Inception|\"Cobb, a skilled ...| the implantation...|              83.952|/oYuLEt3zVCKq57qu...|Your mind is the ...|Action, Science F...|Legendary Picture...|United Kingdom, U...|English, French, ...|\n",
      "|157336|        Interstellar|       8.417|     32571|Released|  2014-11-05| 701729206|    169|False|/pbrkL804c8yAv3zB...|165000000|http://www.inters...|tt0816692|               en|        Interstellar|The adventures of...|             140.241|/gEU2QniE6E77NI6l...|Mankind was born ...|Adventure, Drama,...|Legendary Picture...|United Kingdom, U...|             English|rescue, future, s...|\n",
      "|   155|     The Dark Knight|       8.512|     30619|Released|  2008-07-16|1004558444|    152|False|/nMKdUUepR0i5zn0y...|185000000|https://www.warne...|tt0468569|               en|     The Dark Knight|Batman raises the...|             130.643|/qJ2tW6WMUDux911r...|Welcome to a worl...|Drama, Action, Cr...|DC Comics, Legend...|United Kingdom, U...|   English, Mandarin|joker, sadism, ch...|\n",
      "| 19995|              Avatar|       7.573|     29815|Released|  2009-12-15|2923706026|    162|False|/vL5LR6WdxWPjLPFR...|237000000|https://www.avata...|tt0499549|               en|              Avatar|In the 22nd centu...|              79.932|/kyeqWdyUXW608qlY...|Enter the world o...|Action, Adventure...|Dune Entertainmen...|United States of ...|    English, Spanish|future, society, ...|\n",
      "| 24428|        The Avengers|        7.71|     29166|Released|  2012-04-25|1518815515|    143|False|/9BBTo63ANSmhC4e6...|220000000|https://www.marve...|tt0848228|               en|        The Avengers|When an unexpecte...|              98.082|/RYMX2wcKCBAr24Uy...|Some assembly req...|Science Fiction, ...|      Marvel Studios|United States of ...|English, Hindi, R...|new york city, su...|\n",
      "|293660|            Deadpool|       7.606|     28894|Released|  2016-02-09| 783100000|    108|False|/en971MEXui9diirX...| 58000000|https://www.20thc...|tt1431045|               en|            Deadpool|The origin story ...|              72.735|/zq8Cl3PNIDGU3iWN...|Witness the begin...|Action, Adventure...|20th Century Fox,...|United States of ...|             English|superhero, anti h...|\n",
      "|299536|Avengers: Infinit...|       8.255|     27713|Released|  2018-04-25|2052415039|    149|False|/mDfJG3LC3Dqb67AZ...|300000000|https://www.marve...|tt4154756|               en|Avengers: Infinit...|As the Avengers a...|              154.34|/7WsyChQLEftFiDOV...|An entire univers...|Adventure, Action...|      Marvel Studios|United States of ...|      English, Xhosa|sacrifice, magic,...|\n",
      "|   550|          Fight Club|       8.438|     27238|Released|  1999-10-15| 100853753|    139|False|/hZkgoQYus5vegHoe...| 63000000|http://www.foxmov...|tt0137523|               en|          Fight Club|\"A ticking-time-b...| until an eccentr...|              69.498|/pB8BM7pdSp6B6Ih7...|Mischief. Mayhem....|               Drama|Regency Enterpris...|United States of ...|             English|\n",
      "|118340|Guardians of the ...|       7.906|     26638|Released|  2014-07-30| 772776600|    121|False|/uLtVbjvS1O7gXL8l...|170000000|http://marvel.com...|tt2015381|               en|Guardians of the ...|Light years from ...|              33.255|/r7vmZjiyZw9rpJMQ...|All heroes start ...|Action, Science F...|      Marvel Studios|United States of ...|             English|spacecraft, based...|\n",
      "|   680|        Pulp Fiction|       8.488|     25893|Released|  1994-09-10| 213900000|    154|False|/suaEOtk1N1sgg2MT...|  8500000|https://www.miram...|tt0110912|               en|        Pulp Fiction|A burger-loving h...|              74.862|/d5iIlFn5s0ImszYz...|Just because you ...|     Thriller, Crime|Miramax, A Band A...|United States of ...|English, Spanish,...|drug dealer, boxe...|\n",
      "+------+--------------------+------------+----------+--------+------------+----------+-------+-----+--------------------+---------+--------------------+---------+-----------------+--------------------+--------------------+--------------------+--------------------+--------------------+--------------------+--------------------+--------------------+--------------------+--------------------+\n",
      "only showing top 10 rows\n",
      "\n"
     ]
    }
   ],
   "source": [
    "df.show(10)"
   ]
  },
  {
   "cell_type": "code",
   "execution_count": 5,
   "metadata": {},
   "outputs": [],
   "source": [
    "df = df.drop( \"id\", \"revenue\", \"backdrop_path\" , \"budget\" , \"homepage\" , \"imdb_id\" , \"poster_path\" )\n"
   ]
  },
  {
   "cell_type": "code",
   "execution_count": null,
   "metadata": {},
   "outputs": [],
   "source": []
  },
  {
   "cell_type": "code",
   "execution_count": 6,
   "metadata": {},
   "outputs": [
    {
     "data": {
      "text/plain": [
       "[('title', 'string'),\n",
       " ('vote_average', 'string'),\n",
       " ('vote_count', 'string'),\n",
       " ('status', 'string'),\n",
       " ('release_date', 'string'),\n",
       " ('runtime', 'string'),\n",
       " ('adult', 'string'),\n",
       " ('original_language', 'string'),\n",
       " ('original_title', 'string'),\n",
       " ('overview', 'string'),\n",
       " ('popularity', 'string'),\n",
       " ('tagline', 'string'),\n",
       " ('genres', 'string'),\n",
       " ('production_companies', 'string'),\n",
       " ('production_countries', 'string'),\n",
       " ('spoken_languages', 'string'),\n",
       " ('keywords', 'string')]"
      ]
     },
     "execution_count": 6,
     "metadata": {},
     "output_type": "execute_result"
    }
   ],
   "source": [
    "df.dtypes"
   ]
  },
  {
   "cell_type": "code",
   "execution_count": 7,
   "metadata": {},
   "outputs": [
    {
     "name": "stdout",
     "output_type": "stream",
     "text": [
      "+--------------------+------------+----------+--------+------------+-------+-----+-----------------+--------------------+--------------------+--------------------+--------------------+--------------------+--------------------+--------------------+--------------------+--------------------+\n",
      "|               title|vote_average|vote_count|  status|release_date|runtime|adult|original_language|      original_title|            overview|          popularity|             tagline|              genres|production_companies|production_countries|    spoken_languages|            keywords|\n",
      "+--------------------+------------+----------+--------+------------+-------+-----+-----------------+--------------------+--------------------+--------------------+--------------------+--------------------+--------------------+--------------------+--------------------+--------------------+\n",
      "|           Inception|       8.364|     34495|Released|  2010-07-15|    148|False|               en|           Inception|\"Cobb, a skilled ...| the implantation...|/oYuLEt3zVCKq57qu...|Your mind is the ...|Action, Science F...|Legendary Picture...|United Kingdom, U...|English, French, ...|\n",
      "|        Interstellar|       8.417|     32571|Released|  2014-11-05|    169|False|               en|        Interstellar|The adventures of...|             140.241|Mankind was born ...|Adventure, Drama,...|Legendary Picture...|United Kingdom, U...|             English|rescue, future, s...|\n",
      "|     The Dark Knight|       8.512|     30619|Released|  2008-07-16|    152|False|               en|     The Dark Knight|Batman raises the...|             130.643|Welcome to a worl...|Drama, Action, Cr...|DC Comics, Legend...|United Kingdom, U...|   English, Mandarin|joker, sadism, ch...|\n",
      "|              Avatar|       7.573|     29815|Released|  2009-12-15|    162|False|               en|              Avatar|In the 22nd centu...|              79.932|Enter the world o...|Action, Adventure...|Dune Entertainmen...|United States of ...|    English, Spanish|future, society, ...|\n",
      "|        The Avengers|        7.71|     29166|Released|  2012-04-25|    143|False|               en|        The Avengers|When an unexpecte...|              98.082|Some assembly req...|Science Fiction, ...|      Marvel Studios|United States of ...|English, Hindi, R...|new york city, su...|\n",
      "|            Deadpool|       7.606|     28894|Released|  2016-02-09|    108|False|               en|            Deadpool|The origin story ...|              72.735|Witness the begin...|Action, Adventure...|20th Century Fox,...|United States of ...|             English|superhero, anti h...|\n",
      "|Avengers: Infinit...|       8.255|     27713|Released|  2018-04-25|    149|False|               en|Avengers: Infinit...|As the Avengers a...|              154.34|An entire univers...|Adventure, Action...|      Marvel Studios|United States of ...|      English, Xhosa|sacrifice, magic,...|\n",
      "|          Fight Club|       8.438|     27238|Released|  1999-10-15|    139|False|               en|          Fight Club|\"A ticking-time-b...| until an eccentr...|/pB8BM7pdSp6B6Ih7...|Mischief. Mayhem....|               Drama|Regency Enterpris...|United States of ...|             English|\n",
      "|Guardians of the ...|       7.906|     26638|Released|  2014-07-30|    121|False|               en|Guardians of the ...|Light years from ...|              33.255|All heroes start ...|Action, Science F...|      Marvel Studios|United States of ...|             English|spacecraft, based...|\n",
      "|        Pulp Fiction|       8.488|     25893|Released|  1994-09-10|    154|False|               en|        Pulp Fiction|A burger-loving h...|              74.862|Just because you ...|     Thriller, Crime|Miramax, A Band A...|United States of ...|English, Spanish,...|drug dealer, boxe...|\n",
      "|        Forrest Gump|       8.477|     25409|Released|  1994-06-23|    142|False|               en|        Forrest Gump|A man with a low ...|              92.693|The world will ne...|Comedy, Drama, Ro...|Paramount, The St...|United States of ...|             English|vietnam war, viet...|\n",
      "|Harry Potter and ...|       7.916|     25379|Released|  2001-11-16|    152|False|               en|Harry Potter and ...|Harry Potter has ...|             185.482|Let the magic begin.|  Adventure, Fantasy|Warner Bros. Pict...|United Kingdom, U...|             English|witch, school fri...|\n",
      "+--------------------+------------+----------+--------+------------+-------+-----+-----------------+--------------------+--------------------+--------------------+--------------------+--------------------+--------------------+--------------------+--------------------+--------------------+\n",
      "only showing top 12 rows\n",
      "\n"
     ]
    }
   ],
   "source": [
    "df.show(12)"
   ]
  },
  {
   "cell_type": "code",
   "execution_count": 8,
   "metadata": {},
   "outputs": [],
   "source": [
    "from pyspark.sql.functions import col\n",
    "from pyspark.sql.types import IntegerType, FloatType, StringType\n",
    "\n",
    "df = (df\n",
    "    .withColumn(\"vote_average\", col(\"vote_average\").cast(FloatType()) )\n",
    "    .withColumn(\"vote_count\", col(\"vote_count\").cast(IntegerType()))\n",
    "    .withColumn(\"release_date\", col(\"release_date\").cast(StringType()))\n",
    "    .withColumn(\"runtime\", col(\"runtime\").cast(FloatType()))\n",
    ")\n"
   ]
  },
  {
   "cell_type": "code",
   "execution_count": 9,
   "metadata": {},
   "outputs": [
    {
     "name": "stdout",
     "output_type": "stream",
     "text": [
      "+--------------------+------------+----------+--------+------------+-------+-----+-----------------+--------------------+--------------------+--------------------+--------------------+--------------------+--------------------+--------------------+--------------------+--------------------+\n",
      "|               title|vote_average|vote_count|  status|release_date|runtime|adult|original_language|      original_title|            overview|          popularity|             tagline|              genres|production_companies|production_countries|    spoken_languages|            keywords|\n",
      "+--------------------+------------+----------+--------+------------+-------+-----+-----------------+--------------------+--------------------+--------------------+--------------------+--------------------+--------------------+--------------------+--------------------+--------------------+\n",
      "|           Inception|       8.364|     34495|Released|  2010-07-15|  148.0|False|               en|           Inception|\"Cobb, a skilled ...| the implantation...|/oYuLEt3zVCKq57qu...|Your mind is the ...|Action, Science F...|Legendary Picture...|United Kingdom, U...|English, French, ...|\n",
      "|        Interstellar|       8.417|     32571|Released|  2014-11-05|  169.0|False|               en|        Interstellar|The adventures of...|             140.241|Mankind was born ...|Adventure, Drama,...|Legendary Picture...|United Kingdom, U...|             English|rescue, future, s...|\n",
      "|     The Dark Knight|       8.512|     30619|Released|  2008-07-16|  152.0|False|               en|     The Dark Knight|Batman raises the...|             130.643|Welcome to a worl...|Drama, Action, Cr...|DC Comics, Legend...|United Kingdom, U...|   English, Mandarin|joker, sadism, ch...|\n",
      "|              Avatar|       7.573|     29815|Released|  2009-12-15|  162.0|False|               en|              Avatar|In the 22nd centu...|              79.932|Enter the world o...|Action, Adventure...|Dune Entertainmen...|United States of ...|    English, Spanish|future, society, ...|\n",
      "|        The Avengers|        7.71|     29166|Released|  2012-04-25|  143.0|False|               en|        The Avengers|When an unexpecte...|              98.082|Some assembly req...|Science Fiction, ...|      Marvel Studios|United States of ...|English, Hindi, R...|new york city, su...|\n",
      "|            Deadpool|       7.606|     28894|Released|  2016-02-09|  108.0|False|               en|            Deadpool|The origin story ...|              72.735|Witness the begin...|Action, Adventure...|20th Century Fox,...|United States of ...|             English|superhero, anti h...|\n",
      "|Avengers: Infinit...|       8.255|     27713|Released|  2018-04-25|  149.0|False|               en|Avengers: Infinit...|As the Avengers a...|              154.34|An entire univers...|Adventure, Action...|      Marvel Studios|United States of ...|      English, Xhosa|sacrifice, magic,...|\n",
      "|          Fight Club|       8.438|     27238|Released|  1999-10-15|  139.0|False|               en|          Fight Club|\"A ticking-time-b...| until an eccentr...|/pB8BM7pdSp6B6Ih7...|Mischief. Mayhem....|               Drama|Regency Enterpris...|United States of ...|             English|\n",
      "|Guardians of the ...|       7.906|     26638|Released|  2014-07-30|  121.0|False|               en|Guardians of the ...|Light years from ...|              33.255|All heroes start ...|Action, Science F...|      Marvel Studios|United States of ...|             English|spacecraft, based...|\n",
      "|        Pulp Fiction|       8.488|     25893|Released|  1994-09-10|  154.0|False|               en|        Pulp Fiction|A burger-loving h...|              74.862|Just because you ...|     Thriller, Crime|Miramax, A Band A...|United States of ...|English, Spanish,...|drug dealer, boxe...|\n",
      "+--------------------+------------+----------+--------+------------+-------+-----+-----------------+--------------------+--------------------+--------------------+--------------------+--------------------+--------------------+--------------------+--------------------+--------------------+\n",
      "only showing top 10 rows\n",
      "\n"
     ]
    }
   ],
   "source": [
    "df.show(10)"
   ]
  },
  {
   "cell_type": "code",
   "execution_count": 10,
   "metadata": {},
   "outputs": [],
   "source": [
    "df = df.filter(col(\"popularity\").cast(FloatType()).isNotNull())"
   ]
  },
  {
   "cell_type": "code",
   "execution_count": 11,
   "metadata": {},
   "outputs": [
    {
     "name": "stdout",
     "output_type": "stream",
     "text": [
      "+--------------------+------------+----------+--------+------------+-------+-----+-----------------+--------------------+--------------------+----------+--------------------+--------------------+--------------------+--------------------+--------------------+--------------------+\n",
      "|               title|vote_average|vote_count|  status|release_date|runtime|adult|original_language|      original_title|            overview|popularity|             tagline|              genres|production_companies|production_countries|    spoken_languages|            keywords|\n",
      "+--------------------+------------+----------+--------+------------+-------+-----+-----------------+--------------------+--------------------+----------+--------------------+--------------------+--------------------+--------------------+--------------------+--------------------+\n",
      "|        Interstellar|       8.417|     32571|Released|  2014-11-05|  169.0|False|               en|        Interstellar|The adventures of...|   140.241|Mankind was born ...|Adventure, Drama,...|Legendary Picture...|United Kingdom, U...|             English|rescue, future, s...|\n",
      "|     The Dark Knight|       8.512|     30619|Released|  2008-07-16|  152.0|False|               en|     The Dark Knight|Batman raises the...|   130.643|Welcome to a worl...|Drama, Action, Cr...|DC Comics, Legend...|United Kingdom, U...|   English, Mandarin|joker, sadism, ch...|\n",
      "|              Avatar|       7.573|     29815|Released|  2009-12-15|  162.0|False|               en|              Avatar|In the 22nd centu...|    79.932|Enter the world o...|Action, Adventure...|Dune Entertainmen...|United States of ...|    English, Spanish|future, society, ...|\n",
      "|        The Avengers|        7.71|     29166|Released|  2012-04-25|  143.0|False|               en|        The Avengers|When an unexpecte...|    98.082|Some assembly req...|Science Fiction, ...|      Marvel Studios|United States of ...|English, Hindi, R...|new york city, su...|\n",
      "|            Deadpool|       7.606|     28894|Released|  2016-02-09|  108.0|False|               en|            Deadpool|The origin story ...|    72.735|Witness the begin...|Action, Adventure...|20th Century Fox,...|United States of ...|             English|superhero, anti h...|\n",
      "|Avengers: Infinit...|       8.255|     27713|Released|  2018-04-25|  149.0|False|               en|Avengers: Infinit...|As the Avengers a...|    154.34|An entire univers...|Adventure, Action...|      Marvel Studios|United States of ...|      English, Xhosa|sacrifice, magic,...|\n",
      "|Guardians of the ...|       7.906|     26638|Released|  2014-07-30|  121.0|False|               en|Guardians of the ...|Light years from ...|    33.255|All heroes start ...|Action, Science F...|      Marvel Studios|United States of ...|             English|spacecraft, based...|\n",
      "|        Pulp Fiction|       8.488|     25893|Released|  1994-09-10|  154.0|False|               en|        Pulp Fiction|A burger-loving h...|    74.862|Just because you ...|     Thriller, Crime|Miramax, A Band A...|United States of ...|English, Spanish,...|drug dealer, boxe...|\n",
      "|        Forrest Gump|       8.477|     25409|Released|  1994-06-23|  142.0|False|               en|        Forrest Gump|A man with a low ...|    92.693|The world will ne...|Comedy, Drama, Ro...|Paramount, The St...|United States of ...|             English|vietnam war, viet...|\n",
      "|Harry Potter and ...|       7.916|     25379|Released|  2001-11-16|  152.0|False|               en|Harry Potter and ...|Harry Potter has ...|   185.482|Let the magic begin.|  Adventure, Fantasy|Warner Bros. Pict...|United Kingdom, U...|             English|witch, school fri...|\n",
      "+--------------------+------------+----------+--------+------------+-------+-----+-----------------+--------------------+--------------------+----------+--------------------+--------------------+--------------------+--------------------+--------------------+--------------------+\n",
      "only showing top 10 rows\n",
      "\n"
     ]
    }
   ],
   "source": [
    "df.show(10)"
   ]
  },
  {
   "cell_type": "code",
   "execution_count": 15,
   "metadata": {},
   "outputs": [
    {
     "name": "stderr",
     "output_type": "stream",
     "text": [
      "[Stage 13:>                                                         (0 + 8) / 8]\r"
     ]
    },
    {
     "name": "stdout",
     "output_type": "stream",
     "text": [
      "+--------------------+\n",
      "|              status|\n",
      "+--------------------+\n",
      "|            Released|\n",
      "|             Rumored|\n",
      "|       In Production|\n",
      "|            Canceled|\n",
      "|             Planned|\n",
      "|     Post Production|\n",
      "| 11 Loads) Nipple...|\n",
      "+--------------------+\n",
      "\n"
     ]
    },
    {
     "name": "stderr",
     "output_type": "stream",
     "text": [
      "                                                                                \r"
     ]
    }
   ],
   "source": [
    "df.select(\"status\").distinct().show(19)\n"
   ]
  },
  {
   "cell_type": "code",
   "execution_count": 12,
   "metadata": {},
   "outputs": [
    {
     "name": "stderr",
     "output_type": "stream",
     "text": [
      "                                                                                \r"
     ]
    }
   ],
   "source": [
    "df.write \\\n",
    "    .mode(\"overwrite\") \\\n",
    "    .option(\"header\", True) \\\n",
    "    .csv(\"/Users/vijayramaraju/Developer/Data Engineering/movieassist/data/processed\")"
   ]
  },
  {
   "cell_type": "code",
   "execution_count": null,
   "metadata": {},
   "outputs": [],
   "source": []
  },
  {
   "cell_type": "code",
   "execution_count": null,
   "metadata": {},
   "outputs": [],
   "source": [
    "# embeddings making"
   ]
  },
  {
   "cell_type": "code",
   "execution_count": null,
   "metadata": {},
   "outputs": [],
   "source": [
    "# [title] ([release_date_year]) is a [genres] film rated [vote_average]/10 by [vote_count] viewers. \n",
    "# This [runtime]-minute [original_language] movie [status_description].\n",
    "\n",
    "# Story: [overview] [tagline]\n",
    "\n",
    "# Movie Profile: This [genres] film features [keywords] themes. The movie was produced by \n",
    "# [production_companies] in [production_countries] with dialogue in [spoken_languages]. \n",
    "# Popularity score: [popularity]. [adult_content_note]"
   ]
  },
  {
   "cell_type": "code",
   "execution_count": 16,
   "metadata": {},
   "outputs": [
    {
     "name": "stderr",
     "output_type": "stream",
     "text": [
      "                                                                                \r"
     ]
    }
   ],
   "source": [
    "from pyspark.sql.functions import col, year, when, format_string, to_date, lit\n",
    "\n",
    "processed_df = spark.read.csv(\n",
    "    \"/Users/vijayramaraju/Developer/Data Engineering/movieassist/data/processed\",\n",
    "    header=True,\n",
    "    inferSchema=True\n",
    ")\n",
    "\n"
   ]
  },
  {
   "cell_type": "code",
   "execution_count": 17,
   "metadata": {},
   "outputs": [
    {
     "name": "stdout",
     "output_type": "stream",
     "text": [
      "+--------------------+------------+----------+--------+------------+-------+-----+-----------------+--------------------+--------------------+----------+--------------------+--------------------+--------------------+--------------------+--------------------+--------------------+\n",
      "|               title|vote_average|vote_count|  status|release_date|runtime|adult|original_language|      original_title|            overview|popularity|             tagline|              genres|production_companies|production_countries|    spoken_languages|            keywords|\n",
      "+--------------------+------------+----------+--------+------------+-------+-----+-----------------+--------------------+--------------------+----------+--------------------+--------------------+--------------------+--------------------+--------------------+--------------------+\n",
      "|        Interstellar|       8.417|     32571|Released|  2014-11-05|  169.0|False|               en|        Interstellar|The adventures of...|   140.241|Mankind was born ...|Adventure, Drama,...|Legendary Picture...|United Kingdom, U...|             English|rescue, future, s...|\n",
      "|     The Dark Knight|       8.512|     30619|Released|  2008-07-16|  152.0|False|               en|     The Dark Knight|Batman raises the...|   130.643|Welcome to a worl...|Drama, Action, Cr...|DC Comics, Legend...|United Kingdom, U...|   English, Mandarin|joker, sadism, ch...|\n",
      "|              Avatar|       7.573|     29815|Released|  2009-12-15|  162.0|False|               en|              Avatar|In the 22nd centu...|    79.932|Enter the world o...|Action, Adventure...|Dune Entertainmen...|United States of ...|    English, Spanish|future, society, ...|\n",
      "|        The Avengers|        7.71|     29166|Released|  2012-04-25|  143.0|False|               en|        The Avengers|When an unexpecte...|    98.082|Some assembly req...|Science Fiction, ...|      Marvel Studios|United States of ...|English, Hindi, R...|new york city, su...|\n",
      "|            Deadpool|       7.606|     28894|Released|  2016-02-09|  108.0|False|               en|            Deadpool|The origin story ...|    72.735|Witness the begin...|Action, Adventure...|20th Century Fox,...|United States of ...|             English|superhero, anti h...|\n",
      "|Avengers: Infinit...|       8.255|     27713|Released|  2018-04-25|  149.0|False|               en|Avengers: Infinit...|As the Avengers a...|    154.34|An entire univers...|Adventure, Action...|      Marvel Studios|United States of ...|      English, Xhosa|sacrifice, magic,...|\n",
      "|Guardians of the ...|       7.906|     26638|Released|  2014-07-30|  121.0|False|               en|Guardians of the ...|Light years from ...|    33.255|All heroes start ...|Action, Science F...|      Marvel Studios|United States of ...|             English|spacecraft, based...|\n",
      "|        Pulp Fiction|       8.488|     25893|Released|  1994-09-10|  154.0|False|               en|        Pulp Fiction|A burger-loving h...|    74.862|Just because you ...|     Thriller, Crime|Miramax, A Band A...|United States of ...|English, Spanish,...|drug dealer, boxe...|\n",
      "|        Forrest Gump|       8.477|     25409|Released|  1994-06-23|  142.0|False|               en|        Forrest Gump|A man with a low ...|    92.693|The world will ne...|Comedy, Drama, Ro...|Paramount, The St...|United States of ...|             English|vietnam war, viet...|\n",
      "|Harry Potter and ...|       7.916|     25379|Released|  2001-11-16|  152.0|False|               en|Harry Potter and ...|Harry Potter has ...|   185.482|Let the magic begin.|  Adventure, Fantasy|Warner Bros. Pict...|United Kingdom, U...|             English|witch, school fri...|\n",
      "+--------------------+------------+----------+--------+------------+-------+-----+-----------------+--------------------+--------------------+----------+--------------------+--------------------+--------------------+--------------------+--------------------+--------------------+\n",
      "only showing top 10 rows\n",
      "\n"
     ]
    }
   ],
   "source": [
    "processed_df.show(10)"
   ]
  },
  {
   "cell_type": "code",
   "execution_count": 18,
   "metadata": {},
   "outputs": [],
   "source": [
    "string_cols = [c for c, t in processed_df.dtypes if t == 'string']\n",
    "numeric_cols = [c for c, t in processed_df.dtypes if t in ['int', 'bigint', 'float', 'double']]\n",
    "bool_cols = [c for c, t in processed_df.dtypes if t == 'boolean']\n",
    "\n",
    "processed_df = processed_df.fillna('N/A', subset=string_cols)\n",
    "processed_df = processed_df.fillna(0, subset=numeric_cols)\n",
    "processed_df = processed_df.fillna(False, subset=bool_cols)\n",
    "\n",
    "# Create derived columns for the document\n",
    "# Extract year from release_date\n",
    "processed_df = processed_df.withColumn(\"release_date_casted\", to_date(col(\"release_date\"), \"yyyy-MM-dd\"))\n",
    "processed_df = processed_df.withColumn(\"release_date_year\",\n",
    "    when(col(\"release_date_casted\").isNotNull(), year(col(\"release_date_casted\"))).otherwise(1900)\n",
    ")\n",
    "\n",
    "# Create a description from the 'status' column\n",
    "processed_df = processed_df.withColumn(\"status_description\",\n",
    "    when(col(\"status\") == \"Released\", \"has been released\")\n",
    "    .when(col(\"status\") == \"In Production\", \"is currently in production\")\n",
    "    .when(col(\"status\") == \"Post Production\", \"is in post-production\")\n",
    "    .otherwise(\"has an unknown status\")\n",
    ")\n",
    "\n",
    "# Create a note about adult content\n",
    "processed_df = processed_df.withColumn(\"adult_content_note\",\n",
    "    when(col(\"adult\") == True, \"Intended for adult audiences.\")\n",
    "    .otherwise(\"Suitable for all audiences.\")\n",
    ")\n"
   ]
  },
  {
   "cell_type": "code",
   "execution_count": 19,
   "metadata": {},
   "outputs": [
    {
     "name": "stdout",
     "output_type": "stream",
     "text": [
      "+--------------------+------------+----------+--------+------------+-------+-----+-----------------+--------------------+--------------------+----------+--------------------+--------------------+--------------------+--------------------+--------------------+--------------------+-------------------+-----------------+------------------+--------------------+\n",
      "|               title|vote_average|vote_count|  status|release_date|runtime|adult|original_language|      original_title|            overview|popularity|             tagline|              genres|production_companies|production_countries|    spoken_languages|            keywords|release_date_casted|release_date_year|status_description|  adult_content_note|\n",
      "+--------------------+------------+----------+--------+------------+-------+-----+-----------------+--------------------+--------------------+----------+--------------------+--------------------+--------------------+--------------------+--------------------+--------------------+-------------------+-----------------+------------------+--------------------+\n",
      "|        Interstellar|       8.417|     32571|Released|  2014-11-05|  169.0|False|               en|        Interstellar|The adventures of...|   140.241|Mankind was born ...|Adventure, Drama,...|Legendary Picture...|United Kingdom, U...|             English|rescue, future, s...|         2014-11-05|             2014| has been released|Suitable for all ...|\n",
      "|     The Dark Knight|       8.512|     30619|Released|  2008-07-16|  152.0|False|               en|     The Dark Knight|Batman raises the...|   130.643|Welcome to a worl...|Drama, Action, Cr...|DC Comics, Legend...|United Kingdom, U...|   English, Mandarin|joker, sadism, ch...|         2008-07-16|             2008| has been released|Suitable for all ...|\n",
      "|              Avatar|       7.573|     29815|Released|  2009-12-15|  162.0|False|               en|              Avatar|In the 22nd centu...|    79.932|Enter the world o...|Action, Adventure...|Dune Entertainmen...|United States of ...|    English, Spanish|future, society, ...|         2009-12-15|             2009| has been released|Suitable for all ...|\n",
      "|        The Avengers|        7.71|     29166|Released|  2012-04-25|  143.0|False|               en|        The Avengers|When an unexpecte...|    98.082|Some assembly req...|Science Fiction, ...|      Marvel Studios|United States of ...|English, Hindi, R...|new york city, su...|         2012-04-25|             2012| has been released|Suitable for all ...|\n",
      "|            Deadpool|       7.606|     28894|Released|  2016-02-09|  108.0|False|               en|            Deadpool|The origin story ...|    72.735|Witness the begin...|Action, Adventure...|20th Century Fox,...|United States of ...|             English|superhero, anti h...|         2016-02-09|             2016| has been released|Suitable for all ...|\n",
      "|Avengers: Infinit...|       8.255|     27713|Released|  2018-04-25|  149.0|False|               en|Avengers: Infinit...|As the Avengers a...|    154.34|An entire univers...|Adventure, Action...|      Marvel Studios|United States of ...|      English, Xhosa|sacrifice, magic,...|         2018-04-25|             2018| has been released|Suitable for all ...|\n",
      "|Guardians of the ...|       7.906|     26638|Released|  2014-07-30|  121.0|False|               en|Guardians of the ...|Light years from ...|    33.255|All heroes start ...|Action, Science F...|      Marvel Studios|United States of ...|             English|spacecraft, based...|         2014-07-30|             2014| has been released|Suitable for all ...|\n",
      "|        Pulp Fiction|       8.488|     25893|Released|  1994-09-10|  154.0|False|               en|        Pulp Fiction|A burger-loving h...|    74.862|Just because you ...|     Thriller, Crime|Miramax, A Band A...|United States of ...|English, Spanish,...|drug dealer, boxe...|         1994-09-10|             1994| has been released|Suitable for all ...|\n",
      "|        Forrest Gump|       8.477|     25409|Released|  1994-06-23|  142.0|False|               en|        Forrest Gump|A man with a low ...|    92.693|The world will ne...|Comedy, Drama, Ro...|Paramount, The St...|United States of ...|             English|vietnam war, viet...|         1994-06-23|             1994| has been released|Suitable for all ...|\n",
      "|Harry Potter and ...|       7.916|     25379|Released|  2001-11-16|  152.0|False|               en|Harry Potter and ...|Harry Potter has ...|   185.482|Let the magic begin.|  Adventure, Fantasy|Warner Bros. Pict...|United Kingdom, U...|             English|witch, school fri...|         2001-11-16|             2001| has been released|Suitable for all ...|\n",
      "|            Iron Man|        7.64|     24874|Released|  2008-04-30|  126.0|False|               en|            Iron Man|After being held ...|    72.897|Heroes aren't bor...|Action, Science F...|      Marvel Studios|United States of ...|English, Persian,...|middle east, supe...|         2008-04-30|             2008| has been released|Suitable for all ...|\n",
      "|    Django Unchained|       8.171|     24672|Released|  2012-12-25|  165.0|False|               en|    Django Unchained|With the help of ...|    54.224|Life, liberty and...|      Drama, Western|The Weinstein Com...|United States of ...|English, French, ...|rescue, friendshi...|         2012-12-25|             2012| has been released|Suitable for all ...|\n",
      "|The Shawshank Red...|       8.702|     24649|Released|  1994-09-23|  142.0|False|               en|The Shawshank Red...|Framed in the 194...|    122.61|Fear can hold you...|        Drama, Crime|Castle Rock Enter...|United States of ...|             English|prison, friendshi...|         1994-09-23|             1994| has been released|Suitable for all ...|\n",
      "|   Avengers: Endgame|       8.263|     23857|Released|  2019-04-24|  181.0|False|               en|   Avengers: Endgame|After the devasta...|    91.756|  Avenge the fallen.|Adventure, Scienc...|      Marvel Studios|United States of ...|English, Japanese...|superhero, time t...|         2019-04-24|             2019| has been released|Suitable for all ...|\n",
      "+--------------------+------------+----------+--------+------------+-------+-----+-----------------+--------------------+--------------------+----------+--------------------+--------------------+--------------------+--------------------+--------------------+--------------------+-------------------+-----------------+------------------+--------------------+\n",
      "only showing top 14 rows\n",
      "\n"
     ]
    }
   ],
   "source": [
    "processed_df.show(14)"
   ]
  },
  {
   "cell_type": "code",
   "execution_count": 20,
   "metadata": {},
   "outputs": [
    {
     "name": "stdout",
     "output_type": "stream",
     "text": [
      "+------------------------------------------------------------------------------------------------------------------------------------------------------------------------------------------------------------------------------------------------------------------------------------------------------------------------------------------------------------------------------------------------------------------------------------------------------------------------------------------------------------------------------------------------------------------------------------------------------------------------------------------------------------------------------------------------------------------------------------------------------------------------------------------------------------------------------------------------------------------------------------------------------------------------------------------------------------------------------------------------------------------------------------------------------------------------------------------------------------------------------------------------------------------------------------+\n",
      "|document                                                                                                                                                                                                                                                                                                                                                                                                                                                                                                                                                                                                                                                                                                                                                                                                                                                                                                                                                                                                                                                                                                                                                                            |\n",
      "+------------------------------------------------------------------------------------------------------------------------------------------------------------------------------------------------------------------------------------------------------------------------------------------------------------------------------------------------------------------------------------------------------------------------------------------------------------------------------------------------------------------------------------------------------------------------------------------------------------------------------------------------------------------------------------------------------------------------------------------------------------------------------------------------------------------------------------------------------------------------------------------------------------------------------------------------------------------------------------------------------------------------------------------------------------------------------------------------------------------------------------------------------------------------------------+\n",
      "|Interstellar (2014) is a Adventure, Drama, Science Fiction film rated 8.417/10 by 32571 viewers.\\nThis 169.0-minute en movie has been released.\\n\\nStory: The adventures of a group of explorers who make use of a newly discovered wormhole to surpass the limitations on human space travel and conquer the vast distances involved in an interstellar voyage. Mankind was born on Earth. It was never meant to die here.\\n\\nMovie Profile: This Adventure, Drama, Science Fiction film features rescue, future, spacecraft, race against time, artificial intelligence (a.i.), nasa, time warp, dystopia, expedition, space travel, wormhole, famine, black hole, quantum mechanics, family relationships, space, robot, astronaut, scientist, single father, farmer, space station, curious, space adventure, time paradox, thoughtful, time-manipulation, father daughter relationship, 2060s, cornfield, time manipulation, complicated themes. The movie was produced by \\nLegendary Pictures, Syncopy, Lynda Obst Productions in United Kingdom, United States of America with dialogue in English. \\nPopularity score: 140.241. Suitable for all audiences.                |\n",
      "|The Dark Knight (2008) is a Drama, Action, Crime, Thriller film rated 8.512/10 by 30619 viewers.\\nThis 152.0-minute en movie has been released.\\n\\nStory: Batman raises the stakes in his war on crime. With the help of Lt. Jim Gordon and District Attorney Harvey Dent, Batman sets out to dismantle the remaining criminal organizations that plague the streets. The partnership proves to be effective, but they soon find themselves prey to a reign of chaos unleashed by a rising criminal mastermind known to the terrified citizens of Gotham as the Joker. Welcome to a world without rules.\\n\\nMovie Profile: This Drama, Action, Crime, Thriller film features joker, sadism, chaos, secret identity, crime fighter, superhero, anti hero, scarecrow, based on comic, vigilante, organized crime, tragic hero, anti villain, criminal mastermind, district attorney, super power, super villain, neo-noir themes. The movie was produced by \\nDC Comics, Legendary Pictures, Syncopy, Isobel Griffiths, Warner Bros. Pictures in United Kingdom, United States of America with dialogue in English, Mandarin. \\nPopularity score: 130.643. Suitable for all audiences.|\n",
      "|Avatar (2009) is a Action, Adventure, Fantasy, Science Fiction film rated 7.573/10 by 29815 viewers.\\nThis 162.0-minute en movie has been released.\\n\\nStory: In the 22nd century, a paraplegic Marine is dispatched to the moon Pandora on a unique mission, but becomes torn between following orders and protecting an alien civilization. Enter the world of Pandora.\\n\\nMovie Profile: This Action, Adventure, Fantasy, Science Fiction film features future, society, culture clash, space travel, space war, space colony, tribe, romance, alien, futuristic, space, alien planet, marine, soldier, battle, love affair, nature, anti war, power relations, joyful themes. The movie was produced by \\nDune Entertainment, Lightstorm Entertainment, 20th Century Fox, Ingenious Media in United States of America, United Kingdom with dialogue in English, Spanish. \\nPopularity score: 79.932. Suitable for all audiences.                                                                                                                                                                                                                                                |\n",
      "|The Avengers (2012) is a Science Fiction, Action, Adventure film rated 7.71/10 by 29166 viewers.\\nThis 143.0-minute en movie has been released.\\n\\nStory: When an unexpected enemy emerges and threatens global safety and security, Nick Fury, director of the international peacekeeping agency known as S.H.I.E.L.D., finds himself in need of a team to pull the world back from the brink of disaster. Spanning the globe, a daring recruitment effort begins! Some assembly required.\\n\\nMovie Profile: This Science Fiction, Action, Adventure film features new york city, superhero, shield, based on comic, alien invasion, superhero team, aftercreditsstinger, duringcreditsstinger, marvel cinematic universe (mcu) themes. The movie was produced by \\nMarvel Studios in United States of America with dialogue in English, Hindi, Russian. \\nPopularity score: 98.082. Suitable for all audiences.                                                                                                                                                                                                                                                                   |\n",
      "|Deadpool (2016) is a Action, Adventure, Comedy film rated 7.606/10 by 28894 viewers.\\nThis 108.0-minute en movie has been released.\\n\\nStory: The origin story of former Special Forces operative turned mercenary Wade Wilson, who, after being subjected to a rogue experiment that leaves him with accelerated healing powers, adopts the alter ego Deadpool. Armed with his new abilities and a dark, twisted sense of humor, Deadpool hunts down the man who nearly destroyed his life. Witness the beginning of a happy ending.\\n\\nMovie Profile: This Action, Adventure, Comedy film features superhero, anti hero, mercenary, based on comic, aftercreditsstinger, duringcreditsstinger themes. The movie was produced by \\n20th Century Fox, The Donners' Company, Genre Films in United States of America with dialogue in English. \\nPopularity score: 72.735. Suitable for all audiences.                                                                                                                                                                                                                                                                               |\n",
      "+------------------------------------------------------------------------------------------------------------------------------------------------------------------------------------------------------------------------------------------------------------------------------------------------------------------------------------------------------------------------------------------------------------------------------------------------------------------------------------------------------------------------------------------------------------------------------------------------------------------------------------------------------------------------------------------------------------------------------------------------------------------------------------------------------------------------------------------------------------------------------------------------------------------------------------------------------------------------------------------------------------------------------------------------------------------------------------------------------------------------------------------------------------------------------------+\n",
      "only showing top 5 rows\n",
      "\n"
     ]
    }
   ],
   "source": [
    "\n",
    "# Define the document template\n",
    "document_template = \"\"\"%s (%s) is a %s film rated %s/10 by %s viewers.\n",
    "This %s-minute %s movie %s.\n",
    "\n",
    "Story: %s %s\n",
    "\n",
    "Movie Profile: This %s film features %s themes. The movie was produced by \n",
    "%s in %s with dialogue in %s. \n",
    "Popularity score: %s. %s\"\"\"\n",
    "\n",
    "# Create the 'document' column\n",
    "documents_df = processed_df.withColumn(\"document\",\n",
    "    format_string(document_template,\n",
    "        col(\"title\"),\n",
    "        col(\"release_date_year\").cast(\"string\"),\n",
    "        col(\"genres\"),\n",
    "        col(\"vote_average\").cast(\"string\"),\n",
    "        col(\"vote_count\").cast(\"string\"),\n",
    "        col(\"runtime\").cast(\"string\"),\n",
    "        col(\"original_language\"),\n",
    "        col(\"status_description\"),\n",
    "        col(\"overview\"),\n",
    "        col(\"tagline\"),\n",
    "        col(\"genres\"),\n",
    "        col(\"keywords\"),\n",
    "        col(\"production_companies\"),\n",
    "        col(\"production_countries\"),\n",
    "        col(\"spoken_languages\"),\n",
    "        col(\"popularity\").cast(\"string\"),\n",
    "        col(\"adult_content_note\")\n",
    "    )\n",
    ")\n",
    "\n",
    "# Show a few example documents\n",
    "documents_df.select(\"document\").show(5, truncate=False)"
   ]
  },
  {
   "cell_type": "code",
   "execution_count": 21,
   "metadata": {},
   "outputs": [
    {
     "name": "stderr",
     "output_type": "stream",
     "text": [
      "[Stage 21:==================================================>       (7 + 1) / 8]\r"
     ]
    },
    {
     "name": "stdout",
     "output_type": "stream",
     "text": [
      "Documents saved to /Users/vijayramaraju/Developer/Data Engineering/movieassist/data/documents\n"
     ]
    },
    {
     "name": "stderr",
     "output_type": "stream",
     "text": [
      "                                                                                \r"
     ]
    }
   ],
   "source": [
    "documents_path = \"/Users/vijayramaraju/Developer/Data Engineering/movieassist/data/documents\"\n",
    "\n",
    "output_documents = documents_df.select(\"document\")\n",
    "\n",
    "output_documents.write \\\n",
    "    .mode(\"overwrite\") \\\n",
    "    .text(documents_path)\n",
    "\n",
    "print(f\"Documents saved to {documents_path}\")"
   ]
  },
  {
   "cell_type": "code",
   "execution_count": 26,
   "metadata": {},
   "outputs": [
    {
     "name": "stdout",
     "output_type": "stream",
     "text": [
      "Requirement already satisfied: openai in /Users/vijayramaraju/Developer/Data Engineering/movieassist/movieassist_env/lib/python3.11/site-packages (1.86.0)\n",
      "Requirement already satisfied: httpx in /Users/vijayramaraju/Developer/Data Engineering/movieassist/movieassist_env/lib/python3.11/site-packages (0.28.1)\n",
      "Requirement already satisfied: anyio<5,>=3.5.0 in /Users/vijayramaraju/Developer/Data Engineering/movieassist/movieassist_env/lib/python3.11/site-packages (from openai) (4.9.0)\n",
      "Requirement already satisfied: distro<2,>=1.7.0 in /Users/vijayramaraju/Developer/Data Engineering/movieassist/movieassist_env/lib/python3.11/site-packages (from openai) (1.9.0)\n",
      "Requirement already satisfied: jiter<1,>=0.4.0 in /Users/vijayramaraju/Developer/Data Engineering/movieassist/movieassist_env/lib/python3.11/site-packages (from openai) (0.10.0)\n",
      "Requirement already satisfied: pydantic<3,>=1.9.0 in /Users/vijayramaraju/Developer/Data Engineering/movieassist/movieassist_env/lib/python3.11/site-packages (from openai) (2.7.1)\n",
      "Requirement already satisfied: sniffio in /Users/vijayramaraju/Developer/Data Engineering/movieassist/movieassist_env/lib/python3.11/site-packages (from openai) (1.3.1)\n",
      "Requirement already satisfied: tqdm>4 in /Users/vijayramaraju/Developer/Data Engineering/movieassist/movieassist_env/lib/python3.11/site-packages (from openai) (4.67.1)\n",
      "Requirement already satisfied: typing-extensions<5,>=4.11 in /Users/vijayramaraju/Developer/Data Engineering/movieassist/movieassist_env/lib/python3.11/site-packages (from openai) (4.14.0)\n",
      "Requirement already satisfied: certifi in /Users/vijayramaraju/Developer/Data Engineering/movieassist/movieassist_env/lib/python3.11/site-packages (from httpx) (2025.6.15)\n",
      "Requirement already satisfied: httpcore==1.* in /Users/vijayramaraju/Developer/Data Engineering/movieassist/movieassist_env/lib/python3.11/site-packages (from httpx) (1.0.9)\n",
      "Requirement already satisfied: idna in /Users/vijayramaraju/Developer/Data Engineering/movieassist/movieassist_env/lib/python3.11/site-packages (from httpx) (3.10)\n",
      "Requirement already satisfied: h11>=0.16 in /Users/vijayramaraju/Developer/Data Engineering/movieassist/movieassist_env/lib/python3.11/site-packages (from httpcore==1.*->httpx) (0.16.0)\n",
      "Requirement already satisfied: annotated-types>=0.4.0 in /Users/vijayramaraju/Developer/Data Engineering/movieassist/movieassist_env/lib/python3.11/site-packages (from pydantic<3,>=1.9.0->openai) (0.7.0)\n",
      "Requirement already satisfied: pydantic-core==2.18.2 in /Users/vijayramaraju/Developer/Data Engineering/movieassist/movieassist_env/lib/python3.11/site-packages (from pydantic<3,>=1.9.0->openai) (2.18.2)\n",
      "\n",
      "\u001b[1m[\u001b[0m\u001b[34;49mnotice\u001b[0m\u001b[1;39;49m]\u001b[0m\u001b[39;49m A new release of pip is available: \u001b[0m\u001b[31;49m23.2.1\u001b[0m\u001b[39;49m -> \u001b[0m\u001b[32;49m25.1.1\u001b[0m\n",
      "\u001b[1m[\u001b[0m\u001b[34;49mnotice\u001b[0m\u001b[1;39;49m]\u001b[0m\u001b[39;49m To update, run: \u001b[0m\u001b[32;49mpip install --upgrade pip\u001b[0m\n",
      "Note: you may need to restart the kernel to use updated packages.\n"
     ]
    }
   ],
   "source": [
    "%pip install --upgrade openai httpx"
   ]
  },
  {
   "cell_type": "code",
   "execution_count": null,
   "metadata": {},
   "outputs": [
    {
     "name": "stdout",
     "output_type": "stream",
     "text": [
      "Index movieassist already exists.\n",
      "Error initializing OpenAI client: Client.__init__() got an unexpected keyword argument 'proxies'\n"
     ]
    },
    {
     "ename": "TypeError",
     "evalue": "Client.__init__() got an unexpected keyword argument 'proxies'",
     "output_type": "error",
     "traceback": [
      "\u001b[31m---------------------------------------------------------------------------\u001b[39m",
      "\u001b[31mTypeError\u001b[39m                                 Traceback (most recent call last)",
      "\u001b[36mCell\u001b[39m\u001b[36m \u001b[39m\u001b[32mIn[27]\u001b[39m\u001b[32m, line 51\u001b[39m\n\u001b[32m     49\u001b[39m \u001b[38;5;28;01mexcept\u001b[39;00m \u001b[38;5;167;01mException\u001b[39;00m \u001b[38;5;28;01mas\u001b[39;00m e:\n\u001b[32m     50\u001b[39m     \u001b[38;5;28mprint\u001b[39m(\u001b[33mf\u001b[39m\u001b[33m\"\u001b[39m\u001b[33mError initializing OpenAI client: \u001b[39m\u001b[38;5;132;01m{\u001b[39;00me\u001b[38;5;132;01m}\u001b[39;00m\u001b[33m\"\u001b[39m)\n\u001b[32m---> \u001b[39m\u001b[32m51\u001b[39m     \u001b[38;5;28;01mraise\u001b[39;00m e\n\u001b[32m     54\u001b[39m \u001b[38;5;66;03m# --- Read Documents ---\u001b[39;00m\n\u001b[32m     55\u001b[39m documents_path = \u001b[33m\"\u001b[39m\u001b[33m/Users/vijayramaraju/Developer/Data Engineering/movieassist/data/documents\u001b[39m\u001b[33m\"\u001b[39m\n",
      "\u001b[36mCell\u001b[39m\u001b[36m \u001b[39m\u001b[32mIn[27]\u001b[39m\u001b[32m, line 47\u001b[39m\n\u001b[32m     45\u001b[39m \u001b[38;5;66;03m# Initialize OpenAI client\u001b[39;00m\n\u001b[32m     46\u001b[39m \u001b[38;5;28;01mtry\u001b[39;00m:\n\u001b[32m---> \u001b[39m\u001b[32m47\u001b[39m     openai_client = \u001b[43mOpenAI\u001b[49m\u001b[43m(\u001b[49m\u001b[43mapi_key\u001b[49m\u001b[43m=\u001b[49m\u001b[43mOPENAI_API_KEY\u001b[49m\u001b[43m)\u001b[49m\n\u001b[32m     48\u001b[39m     \u001b[38;5;28mprint\u001b[39m(\u001b[33m\"\u001b[39m\u001b[33mOpenAI client initialized successfully.\u001b[39m\u001b[33m\"\u001b[39m)\n\u001b[32m     49\u001b[39m \u001b[38;5;28;01mexcept\u001b[39;00m \u001b[38;5;167;01mException\u001b[39;00m \u001b[38;5;28;01mas\u001b[39;00m e:\n",
      "\u001b[36mFile \u001b[39m\u001b[32m~/Developer/Data Engineering/movieassist/movieassist_env/lib/python3.11/site-packages/openai/_client.py:122\u001b[39m, in \u001b[36mOpenAI.__init__\u001b[39m\u001b[34m(self, api_key, organization, project, base_url, timeout, max_retries, default_headers, default_query, http_client, _strict_response_validation)\u001b[39m\n\u001b[32m    119\u001b[39m \u001b[38;5;28;01mif\u001b[39;00m base_url \u001b[38;5;129;01mis\u001b[39;00m \u001b[38;5;28;01mNone\u001b[39;00m:\n\u001b[32m    120\u001b[39m     base_url = \u001b[33mf\u001b[39m\u001b[33m\"\u001b[39m\u001b[33mhttps://api.openai.com/v1\u001b[39m\u001b[33m\"\u001b[39m\n\u001b[32m--> \u001b[39m\u001b[32m122\u001b[39m \u001b[38;5;28;43msuper\u001b[39;49m\u001b[43m(\u001b[49m\u001b[43m)\u001b[49m\u001b[43m.\u001b[49m\u001b[34;43m__init__\u001b[39;49m\u001b[43m(\u001b[49m\n\u001b[32m    123\u001b[39m \u001b[43m    \u001b[49m\u001b[43mversion\u001b[49m\u001b[43m=\u001b[49m\u001b[43m__version__\u001b[49m\u001b[43m,\u001b[49m\n\u001b[32m    124\u001b[39m \u001b[43m    \u001b[49m\u001b[43mbase_url\u001b[49m\u001b[43m=\u001b[49m\u001b[43mbase_url\u001b[49m\u001b[43m,\u001b[49m\n\u001b[32m    125\u001b[39m \u001b[43m    \u001b[49m\u001b[43mmax_retries\u001b[49m\u001b[43m=\u001b[49m\u001b[43mmax_retries\u001b[49m\u001b[43m,\u001b[49m\n\u001b[32m    126\u001b[39m \u001b[43m    \u001b[49m\u001b[43mtimeout\u001b[49m\u001b[43m=\u001b[49m\u001b[43mtimeout\u001b[49m\u001b[43m,\u001b[49m\n\u001b[32m    127\u001b[39m \u001b[43m    \u001b[49m\u001b[43mhttp_client\u001b[49m\u001b[43m=\u001b[49m\u001b[43mhttp_client\u001b[49m\u001b[43m,\u001b[49m\n\u001b[32m    128\u001b[39m \u001b[43m    \u001b[49m\u001b[43mcustom_headers\u001b[49m\u001b[43m=\u001b[49m\u001b[43mdefault_headers\u001b[49m\u001b[43m,\u001b[49m\n\u001b[32m    129\u001b[39m \u001b[43m    \u001b[49m\u001b[43mcustom_query\u001b[49m\u001b[43m=\u001b[49m\u001b[43mdefault_query\u001b[49m\u001b[43m,\u001b[49m\n\u001b[32m    130\u001b[39m \u001b[43m    \u001b[49m\u001b[43m_strict_response_validation\u001b[49m\u001b[43m=\u001b[49m\u001b[43m_strict_response_validation\u001b[49m\u001b[43m,\u001b[49m\n\u001b[32m    131\u001b[39m \u001b[43m\u001b[49m\u001b[43m)\u001b[49m\n\u001b[32m    133\u001b[39m \u001b[38;5;28mself\u001b[39m._default_stream_cls = Stream\n\u001b[32m    135\u001b[39m \u001b[38;5;28mself\u001b[39m.completions = resources.Completions(\u001b[38;5;28mself\u001b[39m)\n",
      "\u001b[36mFile \u001b[39m\u001b[32m~/Developer/Data Engineering/movieassist/movieassist_env/lib/python3.11/site-packages/openai/_base_client.py:825\u001b[39m, in \u001b[36mSyncAPIClient.__init__\u001b[39m\u001b[34m(self, version, base_url, max_retries, timeout, transport, proxies, limits, http_client, custom_headers, custom_query, _strict_response_validation)\u001b[39m\n\u001b[32m    808\u001b[39m     \u001b[38;5;28;01mraise\u001b[39;00m \u001b[38;5;167;01mTypeError\u001b[39;00m(\n\u001b[32m    809\u001b[39m         \u001b[33mf\u001b[39m\u001b[33m\"\u001b[39m\u001b[33mInvalid `http_client` argument; Expected an instance of `httpx.Client` but got \u001b[39m\u001b[38;5;132;01m{\u001b[39;00m\u001b[38;5;28mtype\u001b[39m(http_client)\u001b[38;5;132;01m}\u001b[39;00m\u001b[33m\"\u001b[39m\n\u001b[32m    810\u001b[39m     )\n\u001b[32m    812\u001b[39m \u001b[38;5;28msuper\u001b[39m().\u001b[34m__init__\u001b[39m(\n\u001b[32m    813\u001b[39m     version=version,\n\u001b[32m    814\u001b[39m     limits=limits,\n\u001b[32m   (...)\u001b[39m\u001b[32m    823\u001b[39m     _strict_response_validation=_strict_response_validation,\n\u001b[32m    824\u001b[39m )\n\u001b[32m--> \u001b[39m\u001b[32m825\u001b[39m \u001b[38;5;28mself\u001b[39m._client = http_client \u001b[38;5;129;01mor\u001b[39;00m \u001b[43mSyncHttpxClientWrapper\u001b[49m\u001b[43m(\u001b[49m\n\u001b[32m    826\u001b[39m \u001b[43m    \u001b[49m\u001b[43mbase_url\u001b[49m\u001b[43m=\u001b[49m\u001b[43mbase_url\u001b[49m\u001b[43m,\u001b[49m\n\u001b[32m    827\u001b[39m \u001b[43m    \u001b[49m\u001b[38;5;66;43;03m# cast to a valid type because mypy doesn't understand our type narrowing\u001b[39;49;00m\n\u001b[32m    828\u001b[39m \u001b[43m    \u001b[49m\u001b[43mtimeout\u001b[49m\u001b[43m=\u001b[49m\u001b[43mcast\u001b[49m\u001b[43m(\u001b[49m\u001b[43mTimeout\u001b[49m\u001b[43m,\u001b[49m\u001b[43m \u001b[49m\u001b[43mtimeout\u001b[49m\u001b[43m)\u001b[49m\u001b[43m,\u001b[49m\n\u001b[32m    829\u001b[39m \u001b[43m    \u001b[49m\u001b[43mproxies\u001b[49m\u001b[43m=\u001b[49m\u001b[43mproxies\u001b[49m\u001b[43m,\u001b[49m\n\u001b[32m    830\u001b[39m \u001b[43m    \u001b[49m\u001b[43mtransport\u001b[49m\u001b[43m=\u001b[49m\u001b[43mtransport\u001b[49m\u001b[43m,\u001b[49m\n\u001b[32m    831\u001b[39m \u001b[43m    \u001b[49m\u001b[43mlimits\u001b[49m\u001b[43m=\u001b[49m\u001b[43mlimits\u001b[49m\u001b[43m,\u001b[49m\n\u001b[32m    832\u001b[39m \u001b[43m    \u001b[49m\u001b[43mfollow_redirects\u001b[49m\u001b[43m=\u001b[49m\u001b[38;5;28;43;01mTrue\u001b[39;49;00m\u001b[43m,\u001b[49m\n\u001b[32m    833\u001b[39m \u001b[43m\u001b[49m\u001b[43m)\u001b[49m\n",
      "\u001b[36mFile \u001b[39m\u001b[32m~/Developer/Data Engineering/movieassist/movieassist_env/lib/python3.11/site-packages/openai/_base_client.py:723\u001b[39m, in \u001b[36m_DefaultHttpxClient.__init__\u001b[39m\u001b[34m(self, **kwargs)\u001b[39m\n\u001b[32m    721\u001b[39m kwargs.setdefault(\u001b[33m\"\u001b[39m\u001b[33mlimits\u001b[39m\u001b[33m\"\u001b[39m, DEFAULT_CONNECTION_LIMITS)\n\u001b[32m    722\u001b[39m kwargs.setdefault(\u001b[33m\"\u001b[39m\u001b[33mfollow_redirects\u001b[39m\u001b[33m\"\u001b[39m, \u001b[38;5;28;01mTrue\u001b[39;00m)\n\u001b[32m--> \u001b[39m\u001b[32m723\u001b[39m \u001b[38;5;28;43msuper\u001b[39;49m\u001b[43m(\u001b[49m\u001b[43m)\u001b[49m\u001b[43m.\u001b[49m\u001b[34;43m__init__\u001b[39;49m\u001b[43m(\u001b[49m\u001b[43m*\u001b[49m\u001b[43m*\u001b[49m\u001b[43mkwargs\u001b[49m\u001b[43m)\u001b[49m\n",
      "\u001b[31mTypeError\u001b[39m: Client.__init__() got an unexpected keyword argument 'proxies'"
     ]
    }
   ],
   "source": [
    "import os\n",
    "from dotenv import load_dotenv\n",
    "from openai import OpenAI\n",
    "from pinecone import Pinecone, ServerlessSpec\n",
    "from pyspark.sql.functions import col, monotonically_increasing_id\n",
    "\n",
    "# Load environment variables from .env file\n",
    "load_dotenv()\n",
    "\n",
    "# --- Configuration ---\n",
    "PINECONE_API_KEY = os.getenv(\"PINECONE_API_KEY\")\n",
    "OPENAI_API_KEY = os.getenv(\"OPENAI_API_KEY\")\n",
    "PINECONE_INDEX_NAME = \"movieassist\"\n",
    "embedding_model = \"text-embedding-3-small\"\n",
    "dimensions = 1536\n",
    "\n",
    "# --- Error checking for API keys ---\n",
    "if not PINECONE_API_KEY:\n",
    "    raise ValueError(\"PINECONE_API_KEY not found in .env file.\")\n",
    "if not OPENAI_API_KEY:\n",
    "    raise ValueError(\"OPENAI_API_KEY not found in .env file.\")\n",
    "\n",
    "# --- Initialize Pinecone and OpenAI ---\n",
    "# Initialize Pinecone\n",
    "pc = Pinecone(api_key=PINECONE_API_KEY)\n",
    "\n",
    "# Check if index exists, create it if it doesn't\n",
    "if PINECONE_INDEX_NAME not in pc.list_indexes().names():\n",
    "    print(f\"Creating new index: {PINECONE_INDEX_NAME}\")\n",
    "    pc.create_index(\n",
    "        name=PINECONE_INDEX_NAME,\n",
    "        dimension=dimensions,\n",
    "        metric=\"cosine\",\n",
    "        spec=ServerlessSpec(\n",
    "            cloud=\"aws\",\n",
    "            region=\"us-east-1\"\n",
    "        )\n",
    "    )\n",
    "else:\n",
    "    print(f\"Index {PINECONE_INDEX_NAME} already exists.\")\n",
    "\n",
    "# Connect to the index\n",
    "index = pc.Index(PINECONE_INDEX_NAME)\n",
    "\n",
    "# Initialize OpenAI client\n",
    "try:\n",
    "    openai_client = OpenAI(api_key=OPENAI_API_KEY)\n",
    "    print(\"OpenAI client initialized successfully.\")\n",
    "except Exception as e:\n",
    "    print(f\"Error initializing OpenAI client: {e}\")\n",
    "    raise e\n",
    "\n",
    "\n",
    "# --- Read Documents ---\n",
    "documents_path = \"/Users/vijayramaraju/Developer/Data Engineering/movieassist/data/documents\"\n",
    "docs_df = spark.read.text(documents_path).withColumnRenamed(\"value\", \"document\")\n",
    "# Add a unique ID to each document for upserting into Pinecone\n",
    "docs_df = docs_df.withColumn(\"id\", monotonically_increasing_id().cast(\"string\"))\n",
    "\n",
    "\n",
    "# --- Function to generate embeddings and upsert ---\n",
    "def embed_and_upsert(partition):\n",
    "    # Each partition needs its own client instances\n",
    "    # Load env vars within the partition function for Spark workers\n",
    "    load_dotenv()\n",
    "    partition_pinecone_api_key = os.getenv(\"PINECONE_API_KEY\")\n",
    "    partition_openai_api_key = os.getenv(\"OPENAI_API_KEY\")\n",
    "\n",
    "    if not partition_pinecone_api_key or not partition_openai_api_key:\n",
    "        # If keys are not found, skip processing this partition\n",
    "        print(\"API keys not found on worker, skipping partition.\")\n",
    "        return\n",
    "\n",
    "    openai_client_partition = OpenAI(api_key=partition_openai_api_key)\n",
    "    pc_partition = Pinecone(api_key=partition_pinecone_api_key)\n",
    "    index_partition = pc_partition.Index(PINECONE_INDEX_NAME)\n",
    "\n",
    "    vectors_to_upsert = []\n",
    "    batch_size = 100 # Pinecone recommends batches of 100 or fewer\n",
    "\n",
    "    for row in partition:\n",
    "        try:\n",
    "            # Generate embedding\n",
    "            response = openai_client_partition.embeddings.create(\n",
    "                input=row[\"document\"],\n",
    "                model=embedding_model\n",
    "            )\n",
    "            embedding = response.data[0].embedding\n",
    "\n",
    "\n",
    "\n",
    "            # Prepare vector for upsert\n",
    "            vectors_to_upsert.append({\n",
    "                \"id\": row[\"id\"],\n",
    "                \"values\": embedding,\n",
    "                \"metadata\": {\"text\": row[\"document\"]}\n",
    "            })\n",
    "\n",
    "            # Upsert in batches\n",
    "            if len(vectors_to_upsert) >= batch_size:\n",
    "                index_partition.upsert(vectors=vectors_to_upsert)\n",
    "                vectors_to_upsert = []\n",
    "\n",
    "        except Exception as e:\n",
    "            print(f\"Error processing row {row['id']}: {e}\")\n",
    "\n",
    "    # Upsert any remaining vectors\n",
    "    if vectors_to_upsert:\n",
    "        index_partition.upsert(vectors=vectors_to_upsert)\n",
    "\n",
    "# --- Process and Upsert ---\n",
    "print(\"Starting embedding and upsert process...\")\n",
    "# Use foreachPartition to apply the function to each partition of the DataFrame\n",
    "docs_df.foreachPartition(embed_and_upsert)\n",
    "print(\"Embedding and upsert process completed.\")\n",
    "\n",
    "# You can check the status of your index\n",
    "print(index.describe_index_stats())"
   ]
  },
  {
   "cell_type": "code",
   "execution_count": null,
   "metadata": {},
   "outputs": [],
   "source": []
  }
 ],
 "metadata": {
  "kernelspec": {
   "display_name": "movieassist_env",
   "language": "python",
   "name": "python3"
  },
  "language_info": {
   "codemirror_mode": {
    "name": "ipython",
    "version": 3
   },
   "file_extension": ".py",
   "mimetype": "text/x-python",
   "name": "python",
   "nbconvert_exporter": "python",
   "pygments_lexer": "ipython3",
   "version": "3.11.5"
  }
 },
 "nbformat": 4,
 "nbformat_minor": 2
}
